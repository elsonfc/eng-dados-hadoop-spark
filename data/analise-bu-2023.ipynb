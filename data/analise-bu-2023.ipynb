{
 "cells": [
  {
   "cell_type": "code",
   "execution_count": 1,
   "id": "557318ba-e61a-4f31-b0d9-f88e6110afc0",
   "metadata": {},
   "outputs": [],
   "source": [
    "from pyspark.sql import SparkSession\n",
    "import pyspark.sql.functions as F\n",
    "\n",
    "# Cria a Spark Session\n",
    "spark = SparkSession.builder \\\n",
    "    .appName(\"Nome da Aplicação\") \\\n",
    "    .master(\"spark://spark:7077\") \\\n",
    "    .getOrCreate() "
   ]
  },
  {
   "cell_type": "code",
   "execution_count": 2,
   "id": "b11ee11e-83b8-40d1-9a8a-96eaea2bb28a",
   "metadata": {},
   "outputs": [
    {
     "data": {
      "text/plain": [
       "878328"
      ]
     },
     "execution_count": 2,
     "metadata": {},
     "output_type": "execute_result"
    }
   ],
   "source": [
    "# Lê o arquivo CSV\n",
    "df = spark.read.csv(\"hdfs://namenode:9000/result-ele2022.csv\", sep=\";\", encoding=\"ISO-8859-1\", header=True, inferSchema=True)\n",
    "\n",
    "# Mostra o número de linhas no arquivo\n",
    "df.count()"
   ]
  },
  {
   "cell_type": "code",
   "execution_count": 3,
   "id": "71735273-f10c-4abd-a44b-facdab88a707",
   "metadata": {},
   "outputs": [
    {
     "data": {
      "text/plain": [
       "DataFrame[summary: string, DT_GERACAO: string, ANO_ELEICAO: string, CD_TIPO_ELEICAO: string, NM_TIPO_ELEICAO: string, CD_PLEITO: string, DT_PLEITO: string, NR_TURNO: string, CD_ELEICAO: string, DS_ELEICAO: string, SG_UF: string, CD_MUNICIPIO: string, NM_MUNICIPIO: string, NR_ZONA: string, NR_SECAO: string, NR_LOCAL_VOTACAO: string, CD_CARGO_PERGUNTA: string, DS_CARGO_PERGUNTA: string, NR_PARTIDO: string, SG_PARTIDO: string, NM_PARTIDO: string, DT_BU_RECEBIDO: string, QT_APTOS: string, QT_COMPARECIMENTO: string, QT_ABSTENCOES: string, CD_TIPO_URNA: string, DS_TIPO_URNA: string, CD_TIPO_VOTAVEL: string, DS_TIPO_VOTAVEL: string, NR_VOTAVEL: string, NM_VOTAVEL: string, QT_VOTOS: string, NR_URNA_EFETIVADA: string, CD_CARGA_1_URNA_EFETIVADA: string, CD_CARGA_2_URNA_EFETIVADA: string, CD_FLASHCARD_URNA_EFETIVADA: string, DT_CARGA_URNA_EFETIVADA: string, DS_CARGO_PERGUNTA_SECAO: string, DS_AGREGADAS: string, DT_ABERTURA: string, DT_ENCERRAMENTO: string, QT_ELEITORES_BIOMETRIA_NH: string, DT_EMISSAO_BU: string, NR_JUNTA_APURADORA: string, NR_TURMA_APURADORA: string]"
      ]
     },
     "execution_count": 3,
     "metadata": {},
     "output_type": "execute_result"
    }
   ],
   "source": [
    "# Descreve o conjunto de dados do dataset\n",
    "df.describe()"
   ]
  },
  {
   "cell_type": "code",
   "execution_count": 4,
   "id": "64e2c9a2-1ba6-44bd-84d9-70c2fec2c5fd",
   "metadata": {},
   "outputs": [
    {
     "name": "stdout",
     "output_type": "stream",
     "text": [
      "+----------+-------------------+-----------+---------------+-----------------+---------+----------+--------+----------+--------------------+-----+------------+------------+-------+--------+----------------+-----------------+-----------------+----------+----------+--------------------+-------------------+--------+-----------------+-------------+------------+------------+---------------+---------------+----------+------------+--------+-----------------+-------------------------+-------------------------+---------------------------+-----------------------+-----------------------+------------+-------------------+-------------------+-------------------------+-------------------+------------------+------------------+\n",
      "|DT_GERACAO|         HH_GERACAO|ANO_ELEICAO|CD_TIPO_ELEICAO|  NM_TIPO_ELEICAO|CD_PLEITO| DT_PLEITO|NR_TURNO|CD_ELEICAO|          DS_ELEICAO|SG_UF|CD_MUNICIPIO|NM_MUNICIPIO|NR_ZONA|NR_SECAO|NR_LOCAL_VOTACAO|CD_CARGO_PERGUNTA|DS_CARGO_PERGUNTA|NR_PARTIDO|SG_PARTIDO|          NM_PARTIDO|     DT_BU_RECEBIDO|QT_APTOS|QT_COMPARECIMENTO|QT_ABSTENCOES|CD_TIPO_URNA|DS_TIPO_URNA|CD_TIPO_VOTAVEL|DS_TIPO_VOTAVEL|NR_VOTAVEL|  NM_VOTAVEL|QT_VOTOS|NR_URNA_EFETIVADA|CD_CARGA_1_URNA_EFETIVADA|CD_CARGA_2_URNA_EFETIVADA|CD_FLASHCARD_URNA_EFETIVADA|DT_CARGA_URNA_EFETIVADA|DS_CARGO_PERGUNTA_SECAO|DS_AGREGADAS|        DT_ABERTURA|    DT_ENCERRAMENTO|QT_ELEITORES_BIOMETRIA_NH|      DT_EMISSAO_BU|NR_JUNTA_APURADORA|NR_TURMA_APURADORA|\n",
      "+----------+-------------------+-----------+---------------+-----------------+---------+----------+--------+----------+--------------------+-----+------------+------------+-------+--------+----------------+-----------------+-----------------+----------+----------+--------------------+-------------------+--------+-----------------+-------------+------------+------------+---------------+---------------+----------+------------+--------+-----------------+-------------------------+-------------------------+---------------------------+-----------------------+-----------------------+------------+-------------------+-------------------+-------------------------+-------------------+------------------+------------------+\n",
      "|05/10/2022|2023-06-13 15:19:40|       2022|              0|Eleição Ordinária|      406|02/10/2022|       1|       544|Eleição Geral Fed...|   RN|       17612|       NATAL|      1|       1|            1015|                1|       Presidente|        -1|    #NULO#|              #NULO#|02/10/2022 17:46:16|     329|              252|           77|           1|     APURADA|              3|           Nulo|        96|        Nulo|       9|          2052180|     943.905.058.025.0...|                   53.584|                   1941091E|    21/09/2022 10:11:00|                  1 - 1|      #NULO#|02/10/2022 08:00:01|02/10/2022 17:01:01|                       11|02/10/2022 17:02:42|                -1|                -1|\n",
      "|05/10/2022|2023-06-13 15:19:40|       2022|              0|Eleição Ordinária|      406|02/10/2022|       1|       544|Eleição Geral Fed...|   RN|       17612|       NATAL|      1|       1|            1015|                1|       Presidente|        -1|    #NULO#|              #NULO#|02/10/2022 17:46:16|     329|              252|           77|           1|     APURADA|              2|         Branco|        95|      Branco|       2|          2052180|     943.905.058.025.0...|                   53.584|                   1941091E|    21/09/2022 10:11:00|                  1 - 1|      #NULO#|02/10/2022 08:00:01|02/10/2022 17:01:01|                       11|02/10/2022 17:02:42|                -1|                -1|\n",
      "|05/10/2022|2023-06-13 15:19:40|       2022|              0|Eleição Ordinária|      406|02/10/2022|       1|       544|Eleição Geral Fed...|   RN|       17612|       NATAL|      1|       1|            1015|                1|       Presidente|        15|       MDB|Movimento Democrá...|02/10/2022 17:46:16|     329|              252|           77|           1|     APURADA|              1|        Nominal|        15|SIMONE TEBET|       6|          2052180|     943.905.058.025.0...|                   53.584|                   1941091E|    21/09/2022 10:11:00|                  1 - 1|      #NULO#|02/10/2022 08:00:01|02/10/2022 17:01:01|                       11|02/10/2022 17:02:42|                -1|                -1|\n",
      "+----------+-------------------+-----------+---------------+-----------------+---------+----------+--------+----------+--------------------+-----+------------+------------+-------+--------+----------------+-----------------+-----------------+----------+----------+--------------------+-------------------+--------+-----------------+-------------+------------+------------+---------------+---------------+----------+------------+--------+-----------------+-------------------------+-------------------------+---------------------------+-----------------------+-----------------------+------------+-------------------+-------------------+-------------------------+-------------------+------------------+------------------+\n",
      "only showing top 3 rows\n",
      "\n"
     ]
    }
   ],
   "source": [
    "# Lista os dados\n",
    "df.show(3)"
   ]
  },
  {
   "cell_type": "code",
   "execution_count": 5,
   "id": "3f66d99d-3f92-4556-8164-dffa00847661",
   "metadata": {},
   "outputs": [
    {
     "name": "stdout",
     "output_type": "stream",
     "text": [
      "root\n",
      " |-- DT_GERACAO: string (nullable = true)\n",
      " |-- HH_GERACAO: timestamp (nullable = true)\n",
      " |-- ANO_ELEICAO: integer (nullable = true)\n",
      " |-- CD_TIPO_ELEICAO: integer (nullable = true)\n",
      " |-- NM_TIPO_ELEICAO: string (nullable = true)\n",
      " |-- CD_PLEITO: integer (nullable = true)\n",
      " |-- DT_PLEITO: string (nullable = true)\n",
      " |-- NR_TURNO: integer (nullable = true)\n",
      " |-- CD_ELEICAO: integer (nullable = true)\n",
      " |-- DS_ELEICAO: string (nullable = true)\n",
      " |-- SG_UF: string (nullable = true)\n",
      " |-- CD_MUNICIPIO: integer (nullable = true)\n",
      " |-- NM_MUNICIPIO: string (nullable = true)\n",
      " |-- NR_ZONA: integer (nullable = true)\n",
      " |-- NR_SECAO: integer (nullable = true)\n",
      " |-- NR_LOCAL_VOTACAO: integer (nullable = true)\n",
      " |-- CD_CARGO_PERGUNTA: integer (nullable = true)\n",
      " |-- DS_CARGO_PERGUNTA: string (nullable = true)\n",
      " |-- NR_PARTIDO: integer (nullable = true)\n",
      " |-- SG_PARTIDO: string (nullable = true)\n",
      " |-- NM_PARTIDO: string (nullable = true)\n",
      " |-- DT_BU_RECEBIDO: string (nullable = true)\n",
      " |-- QT_APTOS: integer (nullable = true)\n",
      " |-- QT_COMPARECIMENTO: integer (nullable = true)\n",
      " |-- QT_ABSTENCOES: integer (nullable = true)\n",
      " |-- CD_TIPO_URNA: integer (nullable = true)\n",
      " |-- DS_TIPO_URNA: string (nullable = true)\n",
      " |-- CD_TIPO_VOTAVEL: integer (nullable = true)\n",
      " |-- DS_TIPO_VOTAVEL: string (nullable = true)\n",
      " |-- NR_VOTAVEL: integer (nullable = true)\n",
      " |-- NM_VOTAVEL: string (nullable = true)\n",
      " |-- QT_VOTOS: integer (nullable = true)\n",
      " |-- NR_URNA_EFETIVADA: integer (nullable = true)\n",
      " |-- CD_CARGA_1_URNA_EFETIVADA: string (nullable = true)\n",
      " |-- CD_CARGA_2_URNA_EFETIVADA: double (nullable = true)\n",
      " |-- CD_FLASHCARD_URNA_EFETIVADA: string (nullable = true)\n",
      " |-- DT_CARGA_URNA_EFETIVADA: string (nullable = true)\n",
      " |-- DS_CARGO_PERGUNTA_SECAO: string (nullable = true)\n",
      " |-- DS_AGREGADAS: string (nullable = true)\n",
      " |-- DT_ABERTURA: string (nullable = true)\n",
      " |-- DT_ENCERRAMENTO: string (nullable = true)\n",
      " |-- QT_ELEITORES_BIOMETRIA_NH: integer (nullable = true)\n",
      " |-- DT_EMISSAO_BU: string (nullable = true)\n",
      " |-- NR_JUNTA_APURADORA: integer (nullable = true)\n",
      " |-- NR_TURMA_APURADORA: integer (nullable = true)\n",
      "\n"
     ]
    }
   ],
   "source": [
    "# Lista a estrutura dos dados\n",
    "df.printSchema()"
   ]
  },
  {
   "cell_type": "code",
   "execution_count": 6,
   "id": "3e318be9-0c3d-4386-afa0-d51a2181281d",
   "metadata": {},
   "outputs": [
    {
     "name": "stdout",
     "output_type": "stream",
     "text": [
      "-RECORD 0--------------------------\n",
      " DT_GERACAO                  | 0   \n",
      " HH_GERACAO                  | 0   \n",
      " ANO_ELEICAO                 | 0   \n",
      " CD_TIPO_ELEICAO             | 0   \n",
      " NM_TIPO_ELEICAO             | 0   \n",
      " CD_PLEITO                   | 0   \n",
      " DT_PLEITO                   | 0   \n",
      " NR_TURNO                    | 0   \n",
      " CD_ELEICAO                  | 0   \n",
      " DS_ELEICAO                  | 0   \n",
      " SG_UF                       | 0   \n",
      " CD_MUNICIPIO                | 0   \n",
      " NM_MUNICIPIO                | 0   \n",
      " NR_ZONA                     | 0   \n",
      " NR_SECAO                    | 0   \n",
      " NR_LOCAL_VOTACAO            | 0   \n",
      " CD_CARGO_PERGUNTA           | 0   \n",
      " DS_CARGO_PERGUNTA           | 0   \n",
      " NR_PARTIDO                  | 0   \n",
      " SG_PARTIDO                  | 0   \n",
      " NM_PARTIDO                  | 0   \n",
      " DT_BU_RECEBIDO              | 0   \n",
      " QT_APTOS                    | 0   \n",
      " QT_COMPARECIMENTO           | 0   \n",
      " QT_ABSTENCOES               | 0   \n",
      " CD_TIPO_URNA                | 0   \n",
      " DS_TIPO_URNA                | 0   \n",
      " CD_TIPO_VOTAVEL             | 0   \n",
      " DS_TIPO_VOTAVEL             | 0   \n",
      " NR_VOTAVEL                  | 0   \n",
      " NM_VOTAVEL                  | 0   \n",
      " QT_VOTOS                    | 0   \n",
      " NR_URNA_EFETIVADA           | 0   \n",
      " CD_CARGA_1_URNA_EFETIVADA   | 0   \n",
      " CD_CARGA_2_URNA_EFETIVADA   | 0   \n",
      " CD_FLASHCARD_URNA_EFETIVADA | 0   \n",
      " DT_CARGA_URNA_EFETIVADA     | 0   \n",
      " DS_CARGO_PERGUNTA_SECAO     | 0   \n",
      " DS_AGREGADAS                | 0   \n",
      " DT_ABERTURA                 | 60  \n",
      " DT_ENCERRAMENTO             | 60  \n",
      " QT_ELEITORES_BIOMETRIA_NH   | 0   \n",
      " DT_EMISSAO_BU               | 0   \n",
      " NR_JUNTA_APURADORA          | 0   \n",
      " NR_TURMA_APURADORA          | 0   \n",
      "\n"
     ]
    }
   ],
   "source": [
    "# Verifica as colunas vazias\n",
    "\n",
    "from pyspark.sql.functions import col, sum\n",
    "\n",
    "vazias = df.select([sum(col(c).isNull().cast(\"int\")).alias(c) for c in df.columns])\n",
    "\n",
    "# Exibe o resultado\n",
    "vazias.show(vertical=True)"
   ]
  },
  {
   "cell_type": "code",
   "execution_count": 10,
   "id": "1495c942-06a2-4395-8315-e9a0c31ef285",
   "metadata": {},
   "outputs": [
    {
     "name": "stdout",
     "output_type": "stream",
     "text": [
      "+--------+\n",
      "|NR_TURNO|\n",
      "+--------+\n",
      "|       1|\n",
      "+--------+\n",
      "\n"
     ]
    }
   ],
   "source": [
    "# Verifica quais os turnos estão no dataframe\n",
    "df.select(\"NR_TURNO\").distinct().show()"
   ]
  },
  {
   "cell_type": "code",
   "execution_count": 11,
   "id": "6176e19c-4122-4608-ade6-898e9fa01cf5",
   "metadata": {},
   "outputs": [
    {
     "name": "stdout",
     "output_type": "stream",
     "text": [
      "+-----+\n",
      "|SG_UF|\n",
      "+-----+\n",
      "|   RN|\n",
      "+-----+\n",
      "\n"
     ]
    }
   ],
   "source": [
    "# Verifica quais unidades da federação estão no dataframe\n",
    "df.select(\"SG_UF\").distinct().show()"
   ]
  },
  {
   "cell_type": "markdown",
   "id": "8034b3e7-1209-4ebe-9717-de01b7f98cf1",
   "metadata": {},
   "source": [
    "### Calcular taxa de comparecimento por Município\n",
    "#### Deduplicar as entradas das seções eleitorais"
   ]
  },
  {
   "cell_type": "code",
   "execution_count": 18,
   "id": "5ddec137-b8af-42aa-b57f-d0b8a93b6132",
   "metadata": {},
   "outputs": [],
   "source": []
  },
  {
   "cell_type": "code",
   "execution_count": 22,
   "id": "48338e80-76bf-48b1-90c6-dd875b8d5e8e",
   "metadata": {},
   "outputs": [],
   "source": [
    "df_secao = (\n",
    "    df\n",
    "    .select(\"NR_ZONA\",\"NM_MUNICIPIO\",\"NR_SECAO\",\"QT_APTOS\",\"QT_COMPARECIMENTO\")\n",
    "    .distinct()\n",
    "    .orderBy(\"NR_ZONA\",\"NM_MUNICIPIO\",\"NR_SECAO\")\n",
    ")"
   ]
  },
  {
   "cell_type": "markdown",
   "id": "7b20ec0d-5d06-4e78-a779-8cf6a55ad130",
   "metadata": {},
   "source": [
    "#### Aptos e comparecimento por município"
   ]
  },
  {
   "cell_type": "code",
   "execution_count": 26,
   "id": "96abb434-a064-4108-b011-a3645fb1b516",
   "metadata": {},
   "outputs": [],
   "source": [
    "df_aptos_comp = (\n",
    "    df_secao\n",
    "    .groupBy(\"NM_MUNICIPIO\")\n",
    "    .agg(F.sum(\"QT_APTOS\").alias(\"APTOS\"), F.sum(\"QT_COMPARECIMENTO\").alias(\"COMPARECIMENTO\"))\n",
    "    .orderBy(\"NM_MUNICIPIO\")\n",
    ")"
   ]
  },
  {
   "cell_type": "markdown",
   "id": "b1e4f602-a0e7-44cd-9dea-1cc27985ecdd",
   "metadata": {},
   "source": [
    "#### Taxa de Comparecimento por Município"
   ]
  },
  {
   "cell_type": "code",
   "execution_count": 36,
   "id": "36ca75bd-080d-470c-86fa-d3d8e8d7f7b1",
   "metadata": {},
   "outputs": [],
   "source": [
    "df_taxa_municipio = (\n",
    "    df_aptos_comp\n",
    "    .withColumn(\"TAXA_COMPARECIMENTO\", F.format_number( 100 * F.col(\"COMPARECIMENTO\") / F.col(\"APTOS\"),2))\n",
    "    .orderBy(\"TAXA_COMPARECIMENTO\")                \n",
    ")    "
   ]
  },
  {
   "cell_type": "code",
   "execution_count": 38,
   "id": "57135a74-8790-4daf-b0a1-e8e2a4442806",
   "metadata": {},
   "outputs": [
    {
     "name": "stdout",
     "output_type": "stream",
     "text": [
      "+----------------+-----+--------------+-------------------+\n",
      "|    NM_MUNICIPIO|APTOS|COMPARECIMENTO|TAXA_COMPARECIMENTO|\n",
      "+----------------+-----+--------------+-------------------+\n",
      "|   PEDRO AVELINO| 6605|          4891|              74.05|\n",
      "|       VENHA-VER| 3855|          2929|              75.98|\n",
      "|            BODÓ| 3590|          2767|              77.08|\n",
      "|CORONEL EZEQUIEL| 5062|          3912|              77.28|\n",
      "|         TANGARÁ|12370|          9583|              77.47|\n",
      "+----------------+-----+--------------+-------------------+\n",
      "only showing top 5 rows\n",
      "\n"
     ]
    }
   ],
   "source": [
    "df_taxa_municipio.show(5)"
   ]
  },
  {
   "cell_type": "code",
   "execution_count": null,
   "id": "b10fb7bb-d3cd-4977-a6f4-5ccdf3c219c5",
   "metadata": {},
   "outputs": [],
   "source": []
  }
 ],
 "metadata": {
  "kernelspec": {
   "display_name": "Python 3 (ipykernel)",
   "language": "python",
   "name": "python3"
  },
  "language_info": {
   "codemirror_mode": {
    "name": "ipython",
    "version": 3
   },
   "file_extension": ".py",
   "mimetype": "text/x-python",
   "name": "python",
   "nbconvert_exporter": "python",
   "pygments_lexer": "ipython3",
   "version": "3.11.3"
  }
 },
 "nbformat": 4,
 "nbformat_minor": 5
}
