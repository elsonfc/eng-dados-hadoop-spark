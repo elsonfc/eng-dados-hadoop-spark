{
 "cells": [
  {
   "cell_type": "code",
   "execution_count": 1,
   "id": "557318ba-e61a-4f31-b0d9-f88e6110afc0",
   "metadata": {},
   "outputs": [],
   "source": [
    "from pyspark.sql import SparkSession\n",
    "import pyspark.sql.functions as F\n",
    "\n",
    "# Cria a Spark Session\n",
    "spark = SparkSession.builder \\\n",
    "    .appName(\"App-Eng-Spark-Haoop\") \\\n",
    "    .master(\"spark://spark:7077\") \\\n",
    "    .getOrCreate() "
   ]
  },
  {
   "cell_type": "code",
   "execution_count": 2,
   "id": "b11ee11e-83b8-40d1-9a8a-96eaea2bb28a",
   "metadata": {},
   "outputs": [
    {
     "data": {
      "text/plain": [
       "878328"
      ]
     },
     "execution_count": 2,
     "metadata": {},
     "output_type": "execute_result"
    }
   ],
   "source": [
    "# Lê o arquivo CSV\n",
    "df = spark.read.csv(\"hdfs://namenode:9000/result-ele2022.csv\", sep=\";\", encoding=\"ISO-8859-1\", header=True, inferSchema=True)\n",
    "\n",
    "# Mostra o número de linhas no arquivo\n",
    "df.count()"
   ]
  },
  {
   "cell_type": "code",
   "execution_count": 3,
   "id": "71735273-f10c-4abd-a44b-facdab88a707",
   "metadata": {},
   "outputs": [
    {
     "data": {
      "text/plain": [
       "DataFrame[summary: string, DT_GERACAO: string, ANO_ELEICAO: string, CD_TIPO_ELEICAO: string, NM_TIPO_ELEICAO: string, CD_PLEITO: string, DT_PLEITO: string, NR_TURNO: string, CD_ELEICAO: string, DS_ELEICAO: string, SG_UF: string, CD_MUNICIPIO: string, NM_MUNICIPIO: string, NR_ZONA: string, NR_SECAO: string, NR_LOCAL_VOTACAO: string, CD_CARGO_PERGUNTA: string, DS_CARGO_PERGUNTA: string, NR_PARTIDO: string, SG_PARTIDO: string, NM_PARTIDO: string, DT_BU_RECEBIDO: string, QT_APTOS: string, QT_COMPARECIMENTO: string, QT_ABSTENCOES: string, CD_TIPO_URNA: string, DS_TIPO_URNA: string, CD_TIPO_VOTAVEL: string, DS_TIPO_VOTAVEL: string, NR_VOTAVEL: string, NM_VOTAVEL: string, QT_VOTOS: string, NR_URNA_EFETIVADA: string, CD_CARGA_1_URNA_EFETIVADA: string, CD_CARGA_2_URNA_EFETIVADA: string, CD_FLASHCARD_URNA_EFETIVADA: string, DT_CARGA_URNA_EFETIVADA: string, DS_CARGO_PERGUNTA_SECAO: string, DS_AGREGADAS: string, DT_ABERTURA: string, DT_ENCERRAMENTO: string, QT_ELEITORES_BIOMETRIA_NH: string, DT_EMISSAO_BU: string, NR_JUNTA_APURADORA: string, NR_TURMA_APURADORA: string]"
      ]
     },
     "execution_count": 3,
     "metadata": {},
     "output_type": "execute_result"
    }
   ],
   "source": [
    "# Descreve o conjunto de dados do dataset\n",
    "df.describe()"
   ]
  },
  {
   "cell_type": "code",
   "execution_count": 4,
   "id": "64e2c9a2-1ba6-44bd-84d9-70c2fec2c5fd",
   "metadata": {},
   "outputs": [
    {
     "name": "stdout",
     "output_type": "stream",
     "text": [
      "+----------+-------------------+-----------+---------------+-----------------+---------+----------+--------+----------+--------------------+-----+------------+------------+-------+--------+----------------+-----------------+-----------------+----------+----------+--------------------+-------------------+--------+-----------------+-------------+------------+------------+---------------+---------------+----------+------------+--------+-----------------+-------------------------+-------------------------+---------------------------+-----------------------+-----------------------+------------+-------------------+-------------------+-------------------------+-------------------+------------------+------------------+\n",
      "|DT_GERACAO|         HH_GERACAO|ANO_ELEICAO|CD_TIPO_ELEICAO|  NM_TIPO_ELEICAO|CD_PLEITO| DT_PLEITO|NR_TURNO|CD_ELEICAO|          DS_ELEICAO|SG_UF|CD_MUNICIPIO|NM_MUNICIPIO|NR_ZONA|NR_SECAO|NR_LOCAL_VOTACAO|CD_CARGO_PERGUNTA|DS_CARGO_PERGUNTA|NR_PARTIDO|SG_PARTIDO|          NM_PARTIDO|     DT_BU_RECEBIDO|QT_APTOS|QT_COMPARECIMENTO|QT_ABSTENCOES|CD_TIPO_URNA|DS_TIPO_URNA|CD_TIPO_VOTAVEL|DS_TIPO_VOTAVEL|NR_VOTAVEL|  NM_VOTAVEL|QT_VOTOS|NR_URNA_EFETIVADA|CD_CARGA_1_URNA_EFETIVADA|CD_CARGA_2_URNA_EFETIVADA|CD_FLASHCARD_URNA_EFETIVADA|DT_CARGA_URNA_EFETIVADA|DS_CARGO_PERGUNTA_SECAO|DS_AGREGADAS|        DT_ABERTURA|    DT_ENCERRAMENTO|QT_ELEITORES_BIOMETRIA_NH|      DT_EMISSAO_BU|NR_JUNTA_APURADORA|NR_TURMA_APURADORA|\n",
      "+----------+-------------------+-----------+---------------+-----------------+---------+----------+--------+----------+--------------------+-----+------------+------------+-------+--------+----------------+-----------------+-----------------+----------+----------+--------------------+-------------------+--------+-----------------+-------------+------------+------------+---------------+---------------+----------+------------+--------+-----------------+-------------------------+-------------------------+---------------------------+-----------------------+-----------------------+------------+-------------------+-------------------+-------------------------+-------------------+------------------+------------------+\n",
      "|05/10/2022|2023-06-15 15:19:40|       2022|              0|Eleição Ordinária|      406|02/10/2022|       1|       544|Eleição Geral Fed...|   RN|       17612|       NATAL|      1|       1|            1015|                1|       Presidente|        -1|    #NULO#|              #NULO#|02/10/2022 17:46:16|     329|              252|           77|           1|     APURADA|              3|           Nulo|        96|        Nulo|       9|          2052180|     943.905.058.025.0...|                   53.584|                   1941091E|    21/09/2022 10:11:00|                  1 - 1|      #NULO#|02/10/2022 08:00:01|02/10/2022 17:01:01|                       11|02/10/2022 17:02:42|                -1|                -1|\n",
      "|05/10/2022|2023-06-15 15:19:40|       2022|              0|Eleição Ordinária|      406|02/10/2022|       1|       544|Eleição Geral Fed...|   RN|       17612|       NATAL|      1|       1|            1015|                1|       Presidente|        -1|    #NULO#|              #NULO#|02/10/2022 17:46:16|     329|              252|           77|           1|     APURADA|              2|         Branco|        95|      Branco|       2|          2052180|     943.905.058.025.0...|                   53.584|                   1941091E|    21/09/2022 10:11:00|                  1 - 1|      #NULO#|02/10/2022 08:00:01|02/10/2022 17:01:01|                       11|02/10/2022 17:02:42|                -1|                -1|\n",
      "|05/10/2022|2023-06-15 15:19:40|       2022|              0|Eleição Ordinária|      406|02/10/2022|       1|       544|Eleição Geral Fed...|   RN|       17612|       NATAL|      1|       1|            1015|                1|       Presidente|        15|       MDB|Movimento Democrá...|02/10/2022 17:46:16|     329|              252|           77|           1|     APURADA|              1|        Nominal|        15|SIMONE TEBET|       6|          2052180|     943.905.058.025.0...|                   53.584|                   1941091E|    21/09/2022 10:11:00|                  1 - 1|      #NULO#|02/10/2022 08:00:01|02/10/2022 17:01:01|                       11|02/10/2022 17:02:42|                -1|                -1|\n",
      "+----------+-------------------+-----------+---------------+-----------------+---------+----------+--------+----------+--------------------+-----+------------+------------+-------+--------+----------------+-----------------+-----------------+----------+----------+--------------------+-------------------+--------+-----------------+-------------+------------+------------+---------------+---------------+----------+------------+--------+-----------------+-------------------------+-------------------------+---------------------------+-----------------------+-----------------------+------------+-------------------+-------------------+-------------------------+-------------------+------------------+------------------+\n",
      "only showing top 3 rows\n",
      "\n"
     ]
    }
   ],
   "source": [
    "# Lista os dados\n",
    "df.show(3)"
   ]
  },
  {
   "cell_type": "code",
   "execution_count": 5,
   "id": "3f66d99d-3f92-4556-8164-dffa00847661",
   "metadata": {},
   "outputs": [
    {
     "name": "stdout",
     "output_type": "stream",
     "text": [
      "root\n",
      " |-- DT_GERACAO: string (nullable = true)\n",
      " |-- HH_GERACAO: timestamp (nullable = true)\n",
      " |-- ANO_ELEICAO: integer (nullable = true)\n",
      " |-- CD_TIPO_ELEICAO: integer (nullable = true)\n",
      " |-- NM_TIPO_ELEICAO: string (nullable = true)\n",
      " |-- CD_PLEITO: integer (nullable = true)\n",
      " |-- DT_PLEITO: string (nullable = true)\n",
      " |-- NR_TURNO: integer (nullable = true)\n",
      " |-- CD_ELEICAO: integer (nullable = true)\n",
      " |-- DS_ELEICAO: string (nullable = true)\n",
      " |-- SG_UF: string (nullable = true)\n",
      " |-- CD_MUNICIPIO: integer (nullable = true)\n",
      " |-- NM_MUNICIPIO: string (nullable = true)\n",
      " |-- NR_ZONA: integer (nullable = true)\n",
      " |-- NR_SECAO: integer (nullable = true)\n",
      " |-- NR_LOCAL_VOTACAO: integer (nullable = true)\n",
      " |-- CD_CARGO_PERGUNTA: integer (nullable = true)\n",
      " |-- DS_CARGO_PERGUNTA: string (nullable = true)\n",
      " |-- NR_PARTIDO: integer (nullable = true)\n",
      " |-- SG_PARTIDO: string (nullable = true)\n",
      " |-- NM_PARTIDO: string (nullable = true)\n",
      " |-- DT_BU_RECEBIDO: string (nullable = true)\n",
      " |-- QT_APTOS: integer (nullable = true)\n",
      " |-- QT_COMPARECIMENTO: integer (nullable = true)\n",
      " |-- QT_ABSTENCOES: integer (nullable = true)\n",
      " |-- CD_TIPO_URNA: integer (nullable = true)\n",
      " |-- DS_TIPO_URNA: string (nullable = true)\n",
      " |-- CD_TIPO_VOTAVEL: integer (nullable = true)\n",
      " |-- DS_TIPO_VOTAVEL: string (nullable = true)\n",
      " |-- NR_VOTAVEL: integer (nullable = true)\n",
      " |-- NM_VOTAVEL: string (nullable = true)\n",
      " |-- QT_VOTOS: integer (nullable = true)\n",
      " |-- NR_URNA_EFETIVADA: integer (nullable = true)\n",
      " |-- CD_CARGA_1_URNA_EFETIVADA: string (nullable = true)\n",
      " |-- CD_CARGA_2_URNA_EFETIVADA: double (nullable = true)\n",
      " |-- CD_FLASHCARD_URNA_EFETIVADA: string (nullable = true)\n",
      " |-- DT_CARGA_URNA_EFETIVADA: string (nullable = true)\n",
      " |-- DS_CARGO_PERGUNTA_SECAO: string (nullable = true)\n",
      " |-- DS_AGREGADAS: string (nullable = true)\n",
      " |-- DT_ABERTURA: string (nullable = true)\n",
      " |-- DT_ENCERRAMENTO: string (nullable = true)\n",
      " |-- QT_ELEITORES_BIOMETRIA_NH: integer (nullable = true)\n",
      " |-- DT_EMISSAO_BU: string (nullable = true)\n",
      " |-- NR_JUNTA_APURADORA: integer (nullable = true)\n",
      " |-- NR_TURMA_APURADORA: integer (nullable = true)\n",
      "\n"
     ]
    }
   ],
   "source": [
    "# Lista a estrutura dos dados\n",
    "df.printSchema()"
   ]
  },
  {
   "cell_type": "code",
   "execution_count": 6,
   "id": "3e318be9-0c3d-4386-afa0-d51a2181281d",
   "metadata": {},
   "outputs": [
    {
     "name": "stdout",
     "output_type": "stream",
     "text": [
      "-RECORD 0--------------------------\n",
      " DT_GERACAO                  | 0   \n",
      " HH_GERACAO                  | 0   \n",
      " ANO_ELEICAO                 | 0   \n",
      " CD_TIPO_ELEICAO             | 0   \n",
      " NM_TIPO_ELEICAO             | 0   \n",
      " CD_PLEITO                   | 0   \n",
      " DT_PLEITO                   | 0   \n",
      " NR_TURNO                    | 0   \n",
      " CD_ELEICAO                  | 0   \n",
      " DS_ELEICAO                  | 0   \n",
      " SG_UF                       | 0   \n",
      " CD_MUNICIPIO                | 0   \n",
      " NM_MUNICIPIO                | 0   \n",
      " NR_ZONA                     | 0   \n",
      " NR_SECAO                    | 0   \n",
      " NR_LOCAL_VOTACAO            | 0   \n",
      " CD_CARGO_PERGUNTA           | 0   \n",
      " DS_CARGO_PERGUNTA           | 0   \n",
      " NR_PARTIDO                  | 0   \n",
      " SG_PARTIDO                  | 0   \n",
      " NM_PARTIDO                  | 0   \n",
      " DT_BU_RECEBIDO              | 0   \n",
      " QT_APTOS                    | 0   \n",
      " QT_COMPARECIMENTO           | 0   \n",
      " QT_ABSTENCOES               | 0   \n",
      " CD_TIPO_URNA                | 0   \n",
      " DS_TIPO_URNA                | 0   \n",
      " CD_TIPO_VOTAVEL             | 0   \n",
      " DS_TIPO_VOTAVEL             | 0   \n",
      " NR_VOTAVEL                  | 0   \n",
      " NM_VOTAVEL                  | 0   \n",
      " QT_VOTOS                    | 0   \n",
      " NR_URNA_EFETIVADA           | 0   \n",
      " CD_CARGA_1_URNA_EFETIVADA   | 0   \n",
      " CD_CARGA_2_URNA_EFETIVADA   | 0   \n",
      " CD_FLASHCARD_URNA_EFETIVADA | 0   \n",
      " DT_CARGA_URNA_EFETIVADA     | 0   \n",
      " DS_CARGO_PERGUNTA_SECAO     | 0   \n",
      " DS_AGREGADAS                | 0   \n",
      " DT_ABERTURA                 | 60  \n",
      " DT_ENCERRAMENTO             | 60  \n",
      " QT_ELEITORES_BIOMETRIA_NH   | 0   \n",
      " DT_EMISSAO_BU               | 0   \n",
      " NR_JUNTA_APURADORA          | 0   \n",
      " NR_TURMA_APURADORA          | 0   \n",
      "\n"
     ]
    }
   ],
   "source": [
    "# Verifica as colunas vazias\n",
    "\n",
    "from pyspark.sql.functions import col, sum\n",
    "\n",
    "vazias = df.select([sum(col(c).isNull().cast(\"int\")).alias(c) for c in df.columns])\n",
    "\n",
    "# Exibe o resultado\n",
    "vazias.show(vertical=True)"
   ]
  },
  {
   "cell_type": "code",
   "execution_count": 7,
   "id": "1495c942-06a2-4395-8315-e9a0c31ef285",
   "metadata": {},
   "outputs": [
    {
     "name": "stdout",
     "output_type": "stream",
     "text": [
      "+--------+\n",
      "|NR_TURNO|\n",
      "+--------+\n",
      "|       1|\n",
      "+--------+\n",
      "\n"
     ]
    }
   ],
   "source": [
    "# Verifica quais os turnos estão no dataframe\n",
    "df.select(\"NR_TURNO\").distinct().show()"
   ]
  },
  {
   "cell_type": "code",
   "execution_count": 8,
   "id": "6176e19c-4122-4608-ade6-898e9fa01cf5",
   "metadata": {},
   "outputs": [
    {
     "name": "stdout",
     "output_type": "stream",
     "text": [
      "+-----+\n",
      "|SG_UF|\n",
      "+-----+\n",
      "|   RN|\n",
      "+-----+\n",
      "\n"
     ]
    }
   ],
   "source": [
    "# Verifica quais unidades da federação estão no dataframe\n",
    "df.select(\"SG_UF\").distinct().show()"
   ]
  },
  {
   "cell_type": "markdown",
   "id": "8034b3e7-1209-4ebe-9717-de01b7f98cf1",
   "metadata": {},
   "source": [
    "### Calcular taxa de comparecimento por Município\n",
    "#### Deduplicar as entradas das seções eleitorais"
   ]
  },
  {
   "cell_type": "code",
   "execution_count": 9,
   "id": "48338e80-76bf-48b1-90c6-dd875b8d5e8e",
   "metadata": {},
   "outputs": [],
   "source": [
    "df_secao = (\n",
    "    df\n",
    "    .select(\"NR_ZONA\",\"NM_MUNICIPIO\",\"NR_SECAO\",\"QT_APTOS\",\"QT_COMPARECIMENTO\")\n",
    "    .distinct()\n",
    "    .orderBy(\"NR_ZONA\",\"NM_MUNICIPIO\",\"NR_SECAO\")\n",
    ")"
   ]
  },
  {
   "cell_type": "markdown",
   "id": "7b20ec0d-5d06-4e78-a779-8cf6a55ad130",
   "metadata": {},
   "source": [
    "#### Aptos e comparecimento por município"
   ]
  },
  {
   "cell_type": "code",
   "execution_count": 10,
   "id": "96abb434-a064-4108-b011-a3645fb1b516",
   "metadata": {},
   "outputs": [],
   "source": [
    "df_aptos_comp = (\n",
    "    df_secao\n",
    "    .groupBy(\"NM_MUNICIPIO\")\n",
    "    .agg(F.sum(\"QT_APTOS\").alias(\"APTOS\"), F.sum(\"QT_COMPARECIMENTO\").alias(\"COMPARECIMENTO\"))\n",
    "    .orderBy(\"NM_MUNICIPIO\")\n",
    ")"
   ]
  },
  {
   "cell_type": "markdown",
   "id": "b1e4f602-a0e7-44cd-9dea-1cc27985ecdd",
   "metadata": {},
   "source": [
    "#### Taxa de Comparecimento por Município"
   ]
  },
  {
   "cell_type": "code",
   "execution_count": 11,
   "id": "36ca75bd-080d-470c-86fa-d3d8e8d7f7b1",
   "metadata": {},
   "outputs": [],
   "source": [
    "df_taxa_municipio = (\n",
    "    df_aptos_comp\n",
    "    .withColumn(\"TAXA_COMPARECIMENTO\", F.format_number( 100 * F.col(\"COMPARECIMENTO\") / F.col(\"APTOS\"),2))\n",
    ")    "
   ]
  },
  {
   "cell_type": "code",
   "execution_count": 12,
   "id": "57135a74-8790-4daf-b0a1-e8e2a4442806",
   "metadata": {},
   "outputs": [
    {
     "name": "stdout",
     "output_type": "stream",
     "text": [
      "+-----------------+-----+--------------+-------------------+\n",
      "|     NM_MUNICIPIO|APTOS|COMPARECIMENTO|TAXA_COMPARECIMENTO|\n",
      "+-----------------+-----+--------------+-------------------+\n",
      "|            ACARI| 9204|          7415|              80.56|\n",
      "|   AFONSO BEZERRA| 9841|          7983|              81.12|\n",
      "|       ALEXANDRIA|12131|          9831|              81.04|\n",
      "|    ALMINO AFONSO| 5304|          4465|              84.18|\n",
      "|ALTO DO RODRIGUES|11576|          9370|              80.94|\n",
      "|          ANGICOS|10489|          8727|              83.20|\n",
      "|  ANTÔNIO MARTINS| 5864|          5050|              86.12|\n",
      "|            APODI|29553|         25334|              85.72|\n",
      "|     AREIA BRANCA|21617|         17382|              80.41|\n",
      "|             AREZ|11642|          9798|              84.16|\n",
      "|             ASSÚ|44108|         36352|              82.42|\n",
      "|          BARAÚNA|21307|         17483|              82.05|\n",
      "|        BARCELONA| 4628|          3763|              81.31|\n",
      "|     BAÍA FORMOSA| 8109|          6440|              79.42|\n",
      "|  BENTO FERNANDES| 4807|          4045|              84.15|\n",
      "|        BOA SAÚDE| 7496|          6203|              82.75|\n",
      "|             BODÓ| 3590|          2767|              77.08|\n",
      "|        BOM JESUS| 8693|          7050|              81.10|\n",
      "|         BREJINHO|10055|          7954|              79.10|\n",
      "|            CAICÓ|45174|         37735|              83.53|\n",
      "+-----------------+-----+--------------+-------------------+\n",
      "only showing top 20 rows\n",
      "\n"
     ]
    }
   ],
   "source": [
    "df_taxa_municipio.show()"
   ]
  },
  {
   "cell_type": "markdown",
   "id": "d909f5a5-092e-43c1-b835-2df1af1725a3",
   "metadata": {},
   "source": [
    "#### Município com Menor taxa de comparecimento"
   ]
  },
  {
   "cell_type": "code",
   "execution_count": 13,
   "id": "b1140941-dcb9-41f2-8291-d8064d2b4c6e",
   "metadata": {},
   "outputs": [
    {
     "name": "stdout",
     "output_type": "stream",
     "text": [
      "+-------------+-----+--------------+-------------------+\n",
      "| NM_MUNICIPIO|APTOS|COMPARECIMENTO|TAXA_COMPARECIMENTO|\n",
      "+-------------+-----+--------------+-------------------+\n",
      "|PEDRO AVELINO| 6605|          4891|              74.05|\n",
      "+-------------+-----+--------------+-------------------+\n",
      "\n"
     ]
    }
   ],
   "source": [
    "df_taxa_municipio.orderBy(F.col(\"TAXA_COMPARECIMENTO\")).limit(1).show()"
   ]
  },
  {
   "cell_type": "markdown",
   "id": "7d0338b6-0a90-4b33-9b0f-40f1d7bbe441",
   "metadata": {},
   "source": [
    "#### Município com Maior taxa de comparecimento"
   ]
  },
  {
   "cell_type": "code",
   "execution_count": 14,
   "id": "61bff050-c43e-4fe5-a412-f435b0d48630",
   "metadata": {},
   "outputs": [
    {
     "name": "stdout",
     "output_type": "stream",
     "text": [
      "+------------+-----+--------------+-------------------+\n",
      "|NM_MUNICIPIO|APTOS|COMPARECIMENTO|TAXA_COMPARECIMENTO|\n",
      "+------------+-----+--------------+-------------------+\n",
      "|    PASSAGEM| 4057|          3585|              88.37|\n",
      "+------------+-----+--------------+-------------------+\n",
      "\n"
     ]
    }
   ],
   "source": [
    "df_taxa_municipio.orderBy(F.col(\"TAXA_COMPARECIMENTO\").desc()).limit(1).show()"
   ]
  },
  {
   "cell_type": "markdown",
   "id": "1b5997b7-0dd8-41fd-8547-69f8512c842c",
   "metadata": {},
   "source": [
    "## Desempenho partidário no Estado - Deputado Federal"
   ]
  },
  {
   "cell_type": "code",
   "execution_count": 15,
   "id": "70a447f5-0f75-467b-9b14-eec173511ba6",
   "metadata": {},
   "outputs": [
    {
     "name": "stdout",
     "output_type": "stream",
     "text": [
      "+-------------+-------------------+\n",
      "|   SG_PARTIDO|TOTAL_VOTOS_PARTIDO|\n",
      "+-------------+-------------------+\n",
      "|           PL|            370.465|\n",
      "|        UNIÃO|            315.590|\n",
      "|           PT|            293.953|\n",
      "|          MDB|            176.527|\n",
      "|SOLIDARIEDADE|            169.556|\n",
      "|           PP|            153.061|\n",
      "| REPUBLICANOS|            104.424|\n",
      "|          PSB|            100.539|\n",
      "|         PSDB|             51.588|\n",
      "|          PSD|             26.590|\n",
      "|          PDT|             22.404|\n",
      "|           PV|             17.865|\n",
      "|          PSC|             14.573|\n",
      "|         PODE|             14.042|\n",
      "|       AVANTE|              8.916|\n",
      "|      PC do B|              4.889|\n",
      "|    CIDADANIA|              4.315|\n",
      "|          PTB|              3.915|\n",
      "|         PSOL|              3.785|\n",
      "|     PATRIOTA|              3.588|\n",
      "|          PMN|              2.314|\n",
      "|           DC|              2.094|\n",
      "|          PMB|              2.016|\n",
      "|         PRTB|              1.285|\n",
      "|         REDE|              1.227|\n",
      "|         PSTU|                823|\n",
      "+-------------+-------------------+\n",
      "\n"
     ]
    }
   ],
   "source": [
    "df_partido_depfed = (\n",
    "    df\n",
    "    .select(\"CD_CARGO_PERGUNTA\",\"DS_CARGO_PERGUNTA\",\"SG_PARTIDO\",\"QT_VOTOS\")\n",
    "    .filter(F.col(\"CD_CARGO_PERGUNTA\")==6)\n",
    "    .filter(F.col(\"SG_PARTIDO\")!=\"#NULO#\")\n",
    "    .groupBy(\"SG_PARTIDO\").agg(F.sum(\"QT_VOTOS\").alias(\"TOTAL_VOTOS_PARTIDO\"))\n",
    "    .orderBy(F.col(\"TOTAL_VOTOS_PARTIDO\").desc())\n",
    "    .withColumn(\"TOTAL_VOTOS_PARTIDO\", F.regexp_replace(F.format_number(\"TOTAL_VOTOS_PARTIDO\", 0),\",\",\".\" ))\n",
    "    .show(100)\n",
    ")"
   ]
  },
  {
   "cell_type": "markdown",
   "id": "35e5c199-92f0-441f-b0c1-cd5601c1332b",
   "metadata": {},
   "source": [
    "## Desempenho partidário nos Municípios: Natal, Parnamirim e Mossoró  - Cargo: Presidente"
   ]
  },
  {
   "cell_type": "code",
   "execution_count": 16,
   "id": "e700bb40-9534-4e46-a159-71d97834f94f",
   "metadata": {},
   "outputs": [
    {
     "name": "stdout",
     "output_type": "stream",
     "text": [
      "+------------+----------+-------------------+-------------------+\n",
      "|NM_MUNICIPIO|SG_PARTIDO|         NM_VOTAVEL|TOTAL_VOTOS_PARTIDO|\n",
      "+------------+----------+-------------------+-------------------+\n",
      "|     MOSSORÓ|        PT|               LULA|             88.081|\n",
      "|     MOSSORÓ|        PL|     JAIR BOLSONARO|             46.378|\n",
      "|     MOSSORÓ|       PDT|         CIRO GOMES|              6.712|\n",
      "|     MOSSORÓ|       MDB|       SIMONE TEBET|              2.442|\n",
      "|     MOSSORÓ|     UNIÃO|   SORAYA THRONICKE|                220|\n",
      "|     MOSSORÓ|      NOVO|     FELIPE D'AVILA|                214|\n",
      "|     MOSSORÓ|       PTB|       PADRE KELMON|                 54|\n",
      "|     MOSSORÓ|        UP|       LÉO PÉRICLES|                 54|\n",
      "|     MOSSORÓ|       PCB|      SOFIA MANZANO|                 47|\n",
      "|     MOSSORÓ|        DC|CONSTITUINTE EYMAEL|                 22|\n",
      "|     MOSSORÓ|      PSTU|               VERA|                 21|\n",
      "|       NATAL|        PT|               LULA|            225.529|\n",
      "|       NATAL|        PL|     JAIR BOLSONARO|            188.942|\n",
      "|       NATAL|       PDT|         CIRO GOMES|             18.474|\n",
      "|       NATAL|       MDB|       SIMONE TEBET|             13.350|\n",
      "|       NATAL|      NOVO|     FELIPE D'AVILA|              1.245|\n",
      "|       NATAL|     UNIÃO|   SORAYA THRONICKE|              1.236|\n",
      "|       NATAL|        UP|       LÉO PÉRICLES|                275|\n",
      "|       NATAL|       PCB|      SOFIA MANZANO|                226|\n",
      "|       NATAL|       PTB|       PADRE KELMON|                221|\n",
      "|       NATAL|      PSTU|               VERA|                164|\n",
      "|       NATAL|        DC|CONSTITUINTE EYMAEL|                 67|\n",
      "|  PARNAMIRIM|        PL|     JAIR BOLSONARO|             53.530|\n",
      "|  PARNAMIRIM|        PT|               LULA|             48.084|\n",
      "|  PARNAMIRIM|       PDT|         CIRO GOMES|              4.583|\n",
      "|  PARNAMIRIM|       MDB|       SIMONE TEBET|              2.849|\n",
      "|  PARNAMIRIM|     UNIÃO|   SORAYA THRONICKE|                350|\n",
      "|  PARNAMIRIM|      NOVO|     FELIPE D'AVILA|                339|\n",
      "|  PARNAMIRIM|       PCB|      SOFIA MANZANO|                 53|\n",
      "|  PARNAMIRIM|        UP|       LÉO PÉRICLES|                 50|\n",
      "|  PARNAMIRIM|       PTB|       PADRE KELMON|                 50|\n",
      "|  PARNAMIRIM|      PSTU|               VERA|                 29|\n",
      "|  PARNAMIRIM|        DC|CONSTITUINTE EYMAEL|                 19|\n",
      "+------------+----------+-------------------+-------------------+\n",
      "\n"
     ]
    }
   ],
   "source": [
    "df_partido_depfed = (\n",
    "    df\n",
    "    .select(\"CD_CARGO_PERGUNTA\",\"DS_CARGO_PERGUNTA\",\"NM_MUNICIPIO\",\"NM_VOTAVEL\",\"SG_PARTIDO\",\"QT_VOTOS\")\n",
    "    .filter(F.col(\"CD_CARGO_PERGUNTA\")==1)\n",
    "    .filter(F.col(\"SG_PARTIDO\")!=\"#NULO#\")\n",
    "    .filter( (F.col(\"NM_MUNICIPIO\")==\"NATAL\") | (F.col(\"NM_MUNICIPIO\")==\"MOSSORÓ\")  | (F.col(\"NM_MUNICIPIO\")==\"PARNAMIRIM\"))\n",
    "    .groupBy(\"NM_MUNICIPIO\",\"SG_PARTIDO\",\"NM_VOTAVEL\").agg(F.sum(\"QT_VOTOS\").alias(\"TOTAL_VOTOS_PARTIDO\"))\n",
    "    .orderBy(F.col(\"NM_MUNICIPIO\"),F.col(\"TOTAL_VOTOS_PARTIDO\").desc() )\n",
    "    .withColumn(\"TOTAL_VOTOS_PARTIDO\", F.regexp_replace(F.format_number(\"TOTAL_VOTOS_PARTIDO\", 0),\",\",\".\" ))\n",
    "    .show(100)\n",
    ")"
   ]
  },
  {
   "cell_type": "markdown",
   "id": "3460873b-7f55-43f4-8b8c-eac43a49574f",
   "metadata": {},
   "source": [
    "### Candidatos mais votados por cada Cargo"
   ]
  },
  {
   "cell_type": "code",
   "execution_count": 17,
   "id": "dc5900a6-4885-469c-97f2-02923f39af78",
   "metadata": {},
   "outputs": [],
   "source": [
    "df_cand_partidos = (\n",
    "    df\n",
    "    .select(\"CD_CARGO_PERGUNTA\",\"DS_CARGO_PERGUNTA\",\"NM_VOTAVEL\",\"QT_VOTOS\")\n",
    "    .groupBy(\"CD_CARGO_PERGUNTA\",\"DS_CARGO_PERGUNTA\",\"NM_VOTAVEL\").agg(F.sum(\"QT_VOTOS\").alias(\"TOTAL_VOTOS_CANDIDATO\"))\n",
    "    .filter((F.col(\"NM_VOTAVEL\")!=\"Branco\") & (F.col(\"NM_VOTAVEL\")!=\"Nulo\")) \n",
    "    .orderBy(F.col(\"CD_CARGO_PERGUNTA\"),F.col(\"TOTAL_VOTOS_CANDIDATO\").desc() )\n",
    ")    "
   ]
  },
  {
   "cell_type": "code",
   "execution_count": 18,
   "id": "60d74da0-e391-433d-839c-19ae95d8d786",
   "metadata": {},
   "outputs": [
    {
     "name": "stdout",
     "output_type": "stream",
     "text": [
      "+-----------------+-----------------+---------------------+\n",
      "|DS_CARGO_PERGUNTA|       NM_VOTAVEL|TOTAL_VOTOS_CANDIDATO|\n",
      "+-----------------+-----------------+---------------------+\n",
      "|       Presidente|             LULA|              1264179|\n",
      "|       Governador|   FATIMA BEZERRA|              1066496|\n",
      "|          Senador|  ROGÉRIO MARINHO|               708351|\n",
      "| Deputado Federal|NATÁLIA BONAVIDES|               157565|\n",
      "|Deputado Estadual| WENDEL LAGARTIXA|                88265|\n",
      "+-----------------+-----------------+---------------------+\n",
      "\n"
     ]
    }
   ],
   "source": [
    "from pyspark.sql import Window\n",
    "\n",
    "window = Window.orderBy(F.col(\"TOTAL_VOTOS_CANDIDATO\").desc()).partitionBy(F.col(\"DS_CARGO_PERGUNTA\"))\n",
    "\n",
    "df_cand_rank = (\n",
    "    df_cand_partidos\n",
    "    .withColumn('rank', F.rank().over(window))\n",
    "    .filter(F.col(\"rank\")==1)\n",
    "    .orderBy(F.col(\"CD_CARGO_PERGUNTA\"))\n",
    "    .select(\"DS_CARGO_PERGUNTA\",\"NM_VOTAVEL\",\"TOTAL_VOTOS_CANDIDATO\")\n",
    ")\n",
    "\n",
    "df_cand_rank.show()"
   ]
  },
  {
   "cell_type": "markdown",
   "id": "f0a2ca1d-9cf3-4d75-ad13-2c234c971d18",
   "metadata": {},
   "source": [
    "#### Localizar o deputado federal mais votado por Município"
   ]
  },
  {
   "cell_type": "code",
   "execution_count": 19,
   "id": "6b9966a9-f611-45da-b879-15334d0d6448",
   "metadata": {},
   "outputs": [],
   "source": [
    "df_depfed_municipio = (\n",
    "    df\n",
    "    .select(\"CD_CARGO_PERGUNTA\",\"DS_CARGO_PERGUNTA\",\"NM_MUNICIPIO\",\"NM_VOTAVEL\",\"QT_VOTOS\")\n",
    "    .groupBy(\"CD_CARGO_PERGUNTA\",\"DS_CARGO_PERGUNTA\",\"NM_MUNICIPIO\",\"NM_VOTAVEL\").agg(F.sum(\"QT_VOTOS\").alias(\"TOTAL_VOTOS_CANDIDATO\"))\n",
    "    .filter((F.col(\"NM_VOTAVEL\")!=\"Branco\") & (F.col(\"NM_VOTAVEL\")!=\"Nulo\"))\n",
    "    .filter(F.col(\"CD_CARGO_PERGUNTA\")==6) \n",
    "    .orderBy(F.col(\"CD_CARGO_PERGUNTA\"),F.col(\"TOTAL_VOTOS_CANDIDATO\").desc() )\n",
    ")    "
   ]
  },
  {
   "cell_type": "code",
   "execution_count": 24,
   "id": "15ccb84b-4e30-48f4-839e-f6cc9f90624f",
   "metadata": {},
   "outputs": [
    {
     "name": "stdout",
     "output_type": "stream",
     "text": [
      "+--------------------+--------------------+---------------------+\n",
      "|        NM_MUNICIPIO|          NM_VOTAVEL|TOTAL_VOTOS_CANDIDATO|\n",
      "+--------------------+--------------------+---------------------+\n",
      "|               ACARI|               KELPS|                 1143|\n",
      "|      AFONSO BEZERRA|     GARIBALDI FILHO|                 2276|\n",
      "|          ALEXANDRIA|   NATÁLIA BONAVIDES|                 2336|\n",
      "|       ALMINO AFONSO|KALINE DE DR BERN...|                 1686|\n",
      "|   ALTO DO RODRIGUES|      BENES LEOCÁDIO|                 3343|\n",
      "|             ANGICOS|     GARIBALDI FILHO|                 1636|\n",
      "|     ANTÔNIO MARTINS|      ROBINSON FARIA|                 2140|\n",
      "|               APODI|     GARIBALDI FILHO|                 4118|\n",
      "|        AREIA BRANCA|            LAWRENCE|                 4046|\n",
      "|                AREZ|      BENES LEOCÁDIO|                 2849|\n",
      "|                ASSÚ|         DRA VANESSA|                15262|\n",
      "|             BARAÚNA|      ROBINSON FARIA|                 4741|\n",
      "|           BARCELONA|      ROBINSON FARIA|                  947|\n",
      "|        BAÍA FORMOSA|      BENES LEOCÁDIO|                 1025|\n",
      "|     BENTO FERNANDES|     GARIBALDI FILHO|                 1167|\n",
      "|           BOA SAÚDE|     GARIBALDI FILHO|                 1668|\n",
      "|                BODÓ|      ROBINSON FARIA|                  861|\n",
      "|           BOM JESUS|      BENES LEOCÁDIO|                 2079|\n",
      "|            BREJINHO|     GARIBALDI FILHO|                 2912|\n",
      "|               CAICÓ|   NATÁLIA BONAVIDES|                 4260|\n",
      "|    CAIÇARA DO NORTE|      BENES LEOCÁDIO|                 1710|\n",
      "|CAIÇARA DO RIO DO...|      BENES LEOCÁDIO|                 1171|\n",
      "|        CAMPO GRANDE|     GARIBALDI FILHO|                 1354|\n",
      "|       CAMPO REDONDO|           JOÃO MAIA|                 2597|\n",
      "|        CANGUARETAMA|         BETO ROSADO|                 3609|\n",
      "|            CARAÚBAS|         BETO ROSADO|                 5249|\n",
      "|          CARNAUBAIS|      BENES LEOCÁDIO|                 1740|\n",
      "| CARNAÚBA DOS DANTAS|      BARBARA DANTAS|                  692|\n",
      "|         CEARÁ-MIRIM|      ROBINSON FARIA|                12087|\n",
      "|          CERRO CORÁ|         BETO ROSADO|                 1218|\n",
      "|    CORONEL EZEQUIEL|     GARIBALDI FILHO|                 1130|\n",
      "| CORONEL JOÃO PESSOA|     PAULINHO FREIRE|                 1469|\n",
      "|             CRUZETA|     PAULINHO FREIRE|                 1149|\n",
      "|       CURRAIS NOVOS|             ZÉ LINS|                 6944|\n",
      "|    DOUTOR SEVERIANO|      BENES LEOCÁDIO|                 1876|\n",
      "|             ENCANTO|              DR PIO|                 1139|\n",
      "|             EQUADOR|      ROBINSON FARIA|                  777|\n",
      "|      ESPÍRITO SANTO|      ROBINSON FARIA|                 1915|\n",
      "|            EXTREMOZ|           JOÃO MAIA|                 2303|\n",
      "|       FELIPE GUERRA|           JOÃO MAIA|                 2565|\n",
      "|    FERNANDO PEDROZA|      BENES LEOCÁDIO|                  602|\n",
      "|            FLORÂNIA|      BENES LEOCÁDIO|                 1435|\n",
      "|    FRANCISCO DANTAS|     PAULINHO FREIRE|                  610|\n",
      "|      FRUTUOSO GOMES|     GARIBALDI FILHO|                 2147|\n",
      "|            GALINHOS|           JOÃO MAIA|                 1114|\n",
      "|           GOIANINHA|           JOÃO MAIA|                 3307|\n",
      "|GOVERNADOR DIX-SE...|         BETO ROSADO|                 2178|\n",
      "|             GROSSOS|         BETO ROSADO|                 3251|\n",
      "|             GUAMARÉ|     GARIBALDI FILHO|                 3559|\n",
      "|       IELMO MARINHO|      ROBINSON FARIA|                 1786|\n",
      "|           IPANGUAÇU|     GARIBALDI FILHO|                 2453|\n",
      "|             IPUEIRA|     GARIBALDI FILHO|                  505|\n",
      "|               ITAJÁ|         BETO ROSADO|                 2360|\n",
      "|                ITAÚ|         BETO ROSADO|                 1285|\n",
      "|            JANDAÍRA|             MINEIRO|                 1525|\n",
      "|             JANDUÍS|   NATÁLIA BONAVIDES|                 1373|\n",
      "|                JAPI|         BETO ROSADO|                 1211|\n",
      "|   JARDIM DE ANGICOS|      BENES LEOCÁDIO|                 1279|\n",
      "|  JARDIM DE PIRANHAS|KALINE DE DR BERN...|                 2094|\n",
      "|    JARDIM DO SERIDÓ|             IRON JR|                 2275|\n",
      "|              JAÇANÃ|         BETO ROSADO|                 1568|\n",
      "|       JOSÉ DA PENHA|              DR PIO|                 1659|\n",
      "|         JOÃO CÂMARA|           JOÃO MAIA|                 3212|\n",
      "|           JOÃO DIAS|           JOÃO MAIA|                 1062|\n",
      "|            JUCURUTU|         BETO ROSADO|                 2773|\n",
      "|              JUNDIÁ|     PAULINHO FREIRE|                 1037|\n",
      "|        LAGOA D'ANTA|     PAULINHO FREIRE|                 1512|\n",
      "|     LAGOA DE PEDRAS|      ROBINSON FARIA|                 1648|\n",
      "|     LAGOA DE VELHOS|     GARIBALDI FILHO|                  925|\n",
      "|          LAGOA NOVA|     GARIBALDI FILHO|                 2765|\n",
      "|       LAGOA SALGADA|     GARIBALDI FILHO|                 1895|\n",
      "|               LAJES|      BENES LEOCÁDIO|                 2904|\n",
      "|      LAJES PINTADAS|      BENES LEOCÁDIO|                 1449|\n",
      "|            LUCRÉCIA|        JAIME CALADO|                  765|\n",
      "|          LUÍS GOMES|              DR PIO|                 3716|\n",
      "|               MACAU|         VICTOR HUGO|                 3203|\n",
      "|             MACAÍBA|      NETINHO FRANÇA|                 8883|\n",
      "|         MAJOR SALES|              DR PIO|                 2228|\n",
      "|    MARCELINO VIEIRA|              DR PIO|                 1758|\n",
      "|             MARTINS|         BETO ROSADO|                 1610|\n",
      "|        MAXARANGUAPE|      ROBINSON FARIA|                 1638|\n",
      "|     MESSIAS TARGINO|           JOÃO MAIA|                 2036|\n",
      "|           MONTANHAS|               KELPS|                 1315|\n",
      "|        MONTE ALEGRE|           JOÃO MAIA|                 2055|\n",
      "|MONTE DAS GAMELEIRAS|         BETO ROSADO|                 1403|\n",
      "|             MOSSORÓ|            LAWRENCE|                33303|\n",
      "|               NATAL|   NATÁLIA BONAVIDES|                52198|\n",
      "|           NOVA CRUZ|     GARIBALDI FILHO|                 3853|\n",
      "|      NÍSIA FLORESTA|      ROBINSON FARIA|                 3415|\n",
      "|OLHO D'ÁGUA DO BO...|         BETO ROSADO|                  859|\n",
      "|         OURO BRANCO|           JOÃO MAIA|                 1544|\n",
      "|              PARANÁ|              DR PIO|                 2524|\n",
      "|           PARAZINHO|         BETO ROSADO|                 1452|\n",
      "|               PARAÚ|         BETO ROSADO|                 1297|\n",
      "|            PARELHAS| DRA  JULIA FERREIRA|                 7107|\n",
      "|          PARNAMIRIM|    PROFESSORA NILDA|                10071|\n",
      "|        PASSA E FICA|      BENES LEOCÁDIO|                 2047|\n",
      "|            PASSAGEM|     GARIBALDI FILHO|                  756|\n",
      "|                PATU|KALINE DE DR BERN...|                 3018|\n",
      "|      PAU DOS FERROS|       LEONARDO REGO|                 4672|\n",
      "|        PEDRA GRANDE|      BENES LEOCÁDIO|                 2280|\n",
      "|         PEDRA PRETA|         BETO ROSADO|                  917|\n",
      "|       PEDRO AVELINO|              MARINA|                 2506|\n",
      "|         PEDRO VELHO|      ROBINSON FARIA|                 1534|\n",
      "|          PENDÊNCIAS|     GARIBALDI FILHO|                 1427|\n",
      "|              PILÕES|              DR PIO|                 1583|\n",
      "|          PORTALEGRE|      BENES LEOCÁDIO|                 1758|\n",
      "|     PORTO DO MANGUE|           JOÃO MAIA|                 1986|\n",
      "|         POÇO BRANCO|      BENES LEOCÁDIO|                 2602|\n",
      "|              PUREZA|     PAULINHO FREIRE|                 1293|\n",
      "|    RAFAEL FERNANDES|         BETO ROSADO|                 1439|\n",
      "|      RAFAEL GODEIRO|KALINE DE DR BERN...|                 1507|\n",
      "|      RIACHO DA CRUZ|         BETO ROSADO|                 1525|\n",
      "|   RIACHO DE SANTANA|           JOÃO MAIA|                 1388|\n",
      "|           RIACHUELO|      ROBINSON FARIA|                 1464|\n",
      "|         RIO DO FOGO|      ROBINSON FARIA|                 2434|\n",
      "|   RODOLFO FERNANDES|              DR PIO|                 1331|\n",
      "|         RUY BARBOSA|     GARIBALDI FILHO|                 1195|\n",
      "|          SANTA CRUZ|   NATÁLIA BONAVIDES|                 2446|\n",
      "|         SANTA MARIA|   NATÁLIA BONAVIDES|                  946|\n",
      "|    SANTANA DO MATOS|      BENES LEOCÁDIO|                 2482|\n",
      "|   SANTANA DO SERIDÓ|      ROBINSON FARIA|                  566|\n",
      "|       SANTO ANTÔNIO|     GARIBALDI FILHO|                 3127|\n",
      "|SENADOR ELÓI DE S...|     PAULINHO FREIRE|                 1007|\n",
      "|SENADOR GEORGINO ...|     GARIBALDI FILHO|                 1114|\n",
      "|        SERRA CAIADA|      ROBINSON FARIA|                 2554|\n",
      "|  SERRA DE SÃO BENTO|     GARIBALDI FILHO|                 1506|\n",
      "|        SERRA DO MEL|           JOÃO MAIA|                 3668|\n",
      "|SERRA NEGRA DO NORTE|        JAIME CALADO|                 1179|\n",
      "|            SERRINHA|      ROBINSON FARIA|                 1593|\n",
      "| SERRINHA DOS PINTOS|         BETO ROSADO|                 1658|\n",
      "|      SEVERIANO MELO|      BENES LEOCÁDIO|                 1445|\n",
      "|  SÃO BENTO DO NORTE|      BENES LEOCÁDIO|                 1343|\n",
      "| SÃO BENTO DO TRAIRÍ|      ROBINSON FARIA|                 1030|\n",
      "|        SÃO FERNANDO|     MAJOR BRILHANTE|                 1024|\n",
      "|SÃO FRANCISCO DO ...|              DR PIO|                 1584|\n",
      "|SÃO GONÇALO DO AM...|        JAIME CALADO|                10209|\n",
      "|  SÃO JOSÉ DE MIPIBU|               KELPS|                 3900|\n",
      "|SÃO JOSÉ DO CAMPE...|         BETO ROSADO|                 2605|\n",
      "|  SÃO JOSÉ DO SERIDÓ|      BENES LEOCÁDIO|                  512|\n",
      "|  SÃO JOÃO DO SABUGI|   NATÁLIA BONAVIDES|                  761|\n",
      "|          SÃO MIGUEL|         BETO ROSADO|                 2535|\n",
      "|SÃO MIGUEL DO GOS...|      ROBINSON FARIA|                 1460|\n",
      "|SÃO PAULO DO POTENGI|     GARIBALDI FILHO|                 1878|\n",
      "|           SÃO PEDRO|      ROBINSON FARIA|                 1274|\n",
      "|          SÃO RAFAEL|         DRA VANESSA|                 1052|\n",
      "|            SÃO TOMÉ|      BENES LEOCÁDIO|                 3405|\n",
      "|         SÃO VICENTE|     GARIBALDI FILHO|                 1063|\n",
      "|          SÍTIO NOVO|           JOÃO MAIA|                 1664|\n",
      "|    TABOLEIRO GRANDE|KALINE DE DR BERN...|                 1132|\n",
      "|               TAIPU|      ROBINSON FARIA|                 1443|\n",
      "|             TANGARÁ|       DR ALESSANDRU|                 1564|\n",
      "|     TENENTE ANANIAS|              DR PIO|                 2393|\n",
      "|TENENTE LAURENTIN...|           JOÃO MAIA|                 2319|\n",
      "|               TIBAU|         BETO ROSADO|                 1211|\n",
      "|        TIBAU DO SUL|      BENES LEOCÁDIO|                 3542|\n",
      "|TIMBAÚBA DOS BATI...|           JOÃO MAIA|                  807|\n",
      "|              TOUROS|        JAIME CALADO|                 3323|\n",
      "|    TRIUNFO POTIGUAR|         BETO ROSADO|                 1400|\n",
      "|            UMARIZAL|           JOÃO MAIA|                  898|\n",
      "|             UPANEMA|           JOÃO MAIA|                 3166|\n",
      "|           VENHA-VER|           JOÃO MAIA|                 1374|\n",
      "|           VERA CRUZ|     PAULINHO FREIRE|                 1445|\n",
      "|           VILA FLOR|      BENES LEOCÁDIO|                 1258|\n",
      "|              VIÇOSA|      BENES LEOCÁDIO|                  966|\n",
      "|              VÁRZEA|      BENES LEOCÁDIO|                 1018|\n",
      "|           ÁGUA NOVA|         BETO ROSADO|                  892|\n",
      "+--------------------+--------------------+---------------------+\n",
      "\n"
     ]
    }
   ],
   "source": [
    "\n",
    "window = Window.orderBy(F.col(\"TOTAL_VOTOS_CANDIDATO\").desc()).partitionBy(F.col(\"NM_MUNICIPIO\"))\n",
    "\n",
    "df_depfed_rank = (\n",
    "    df_depfed_municipio\n",
    "    .withColumn('rank', F.rank().over(window))\n",
    "    .filter(F.col(\"rank\")==1)\n",
    "    .orderBy(F.col(\"NM_MUNICIPIO\"))\n",
    "    .select(\"NM_MUNICIPIO\",\"NM_VOTAVEL\",\"TOTAL_VOTOS_CANDIDATO\")\n",
    ")\n",
    "\n",
    "df_depfed_rank.show(167)\n"
   ]
  },
  {
   "cell_type": "markdown",
   "id": "56d3086c-4bc9-4550-bd4e-d0b589274e39",
   "metadata": {},
   "source": [
    "## Percentual de brancos e nulos sobre o total votos por cargo"
   ]
  },
  {
   "cell_type": "markdown",
   "id": "8b83f2bb-c990-49aa-93aa-d42eaaca2ee6",
   "metadata": {},
   "source": [
    "#### Criando colunas para os votos válidos, brancos e nulos"
   ]
  },
  {
   "cell_type": "code",
   "execution_count": 21,
   "id": "34884a8f-069a-468a-876a-95491cf743d6",
   "metadata": {},
   "outputs": [],
   "source": [
    "df_brancos_nulos_validos = (\n",
    "    df\n",
    "    .select(\"CD_CARGO_PERGUNTA\",\"DS_CARGO_PERGUNTA\",\"NM_VOTAVEL\",\"QT_VOTOS\")\n",
    "    .withColumn(\"QT_NULOS\",F.when(F.col(\"NM_VOTAVEL\")==\"Nulo\",F.col(\"QT_VOTOS\")).otherwise(0))\n",
    "    .withColumn(\"QT_BRANCOS\",F.when(F.col(\"NM_VOTAVEL\")==\"Branco\",F.col(\"QT_VOTOS\")).otherwise(0))\n",
    "    .withColumn(\"QT_VALIDOS\",F.when( (F.col(\"NM_VOTAVEL\")!=\"Branco\") & (F.col(\"NM_VOTAVEL\")!=\"Nulo\")  ,F.col(\"QT_VOTOS\")).otherwise(0))\n",
    "    .orderBy(F.col(\"CD_CARGO_PERGUNTA\"))\n",
    ")    "
   ]
  },
  {
   "cell_type": "markdown",
   "id": "5a3d1fab-412a-41a2-b69d-023e7c9e53f5",
   "metadata": {},
   "source": [
    "#### Somando votos por cargo"
   ]
  },
  {
   "cell_type": "code",
   "execution_count": 22,
   "id": "e066d896-caa4-41b8-8c51-a6831608c201",
   "metadata": {},
   "outputs": [],
   "source": [
    "df_total_cargo = (\n",
    "    df_brancos_nulos_validos\n",
    "    .select(\"CD_CARGO_PERGUNTA\",\"DS_CARGO_PERGUNTA\",\"QT_VALIDOS\",\"QT_BRANCOS\",\"QT_NULOS\")\n",
    "    .groupBy(\"CD_CARGO_PERGUNTA\",\"DS_CARGO_PERGUNTA\")\n",
    "        .agg(F.sum(\"QT_VALIDOS\").alias(\"TOTAL_VALIDOS\"), \n",
    "             F.sum(\"QT_BRANCOS\").alias(\"TOTAL_BRANCOS\"),\n",
    "             F.sum(\"QT_NULOS\").alias(\"TOTAL_NULOS\"),\n",
    "            )\n",
    "    .orderBy(F.col(\"CD_CARGO_PERGUNTA\"))\n",
    ")"
   ]
  },
  {
   "cell_type": "markdown",
   "id": "73877011-c248-4bfb-abe9-28a7a07ba521",
   "metadata": {},
   "source": [
    "#### Calculando os percentuais"
   ]
  },
  {
   "cell_type": "code",
   "execution_count": 23,
   "id": "cdcaca00-5068-439b-8c60-0fb4107bbb8b",
   "metadata": {},
   "outputs": [
    {
     "name": "stdout",
     "output_type": "stream",
     "text": [
      "+-----------------+---------+---------+-------+\n",
      "|DS_CARGO_PERGUNTA|% VALIDOS|% BRANCOS|% NULOS|\n",
      "+-----------------+---------+---------+-------+\n",
      "|       Presidente|    96.01|     1.25|   2.74|\n",
      "|       Governador|    87.65|     4.59|   7.76|\n",
      "|          Senador|    81.11|     7.40|  11.49|\n",
      "| Deputado Federal|    89.63|     5.31|   5.06|\n",
      "|Deputado Estadual|    90.24|     4.85|   4.91|\n",
      "+-----------------+---------+---------+-------+\n",
      "\n"
     ]
    }
   ],
   "source": [
    "\n",
    "soma_validos_brancos_nulos = F.col(\"TOTAL_VALIDOS\") + F.col(\"TOTAL_BRANCOS\") + F.col(\"TOTAL_NULOS\")\n",
    "\n",
    "df_percentual_cargo = (\n",
    "    df_total_cargo\n",
    "    .select(\"CD_CARGO_PERGUNTA\",\"DS_CARGO_PERGUNTA\",\"TOTAL_VALIDOS\",\"TOTAL_BRANCOS\",\"TOTAL_NULOS\")\n",
    "    .withColumn(\n",
    "        \"% VALIDOS\",  \n",
    "        F.format_number(\n",
    "            100 * F.col(\"TOTAL_VALIDOS\") / soma_validos_brancos_nulos,\n",
    "            2\n",
    "        )\n",
    "    )\n",
    "    .withColumn(\n",
    "        \"% BRANCOS\",  \n",
    "        F.format_number(\n",
    "            100 * F.col(\"TOTAL_BRANCOS\") / soma_validos_brancos_nulos,\n",
    "            2\n",
    "        )\n",
    "    )\n",
    "    .withColumn(\n",
    "        \"% NULOS\",  \n",
    "        F.format_number(\n",
    "            100 * F.col(\"TOTAL_NULOS\") / soma_validos_brancos_nulos,\n",
    "            2\n",
    "        )\n",
    "    )\n",
    "    .orderBy(F.col(\"CD_CARGO_PERGUNTA\"))\n",
    "    .select(\"DS_CARGO_PERGUNTA\", \"% VALIDOS\", \"% BRANCOS\", \"% NULOS\")\n",
    "    .show()\n",
    ")"
   ]
  },
  {
   "cell_type": "markdown",
   "id": "840349e2-81b5-4a66-95d9-66a9d1d3d763",
   "metadata": {},
   "source": [
    "## _INSIGHT:_ Município em que os candidatos foram mais votados"
   ]
  },
  {
   "cell_type": "code",
   "execution_count": 76,
   "id": "49a367aa-1626-408b-8148-b0424675f0fc",
   "metadata": {},
   "outputs": [],
   "source": [
    "df_def_fed_mun = (\n",
    "    df_depfed_rank\n",
    "    .groupBy(\"NM_VOTAVEL\")\n",
    "    .agg(\n",
    "        F.count(F.col(\"*\")).alias(\"QT_MUNICIPIOS\"), \n",
    "        F.concat_ws(\", \", F.collect_list(F.col('NM_MUNICIPIO'))).alias(\"MUNICIPIOS\")\n",
    "    )\n",
    "     .orderBy(F.col(\"QT_MUNICIPIOS\").desc())\n",
    ")    "
   ]
  },
  {
   "cell_type": "code",
   "execution_count": 78,
   "id": "89282e0a-7393-40e3-9429-ea2ed784b0dc",
   "metadata": {},
   "outputs": [
    {
     "name": "stdout",
     "output_type": "stream",
     "text": [
      "+---------------------+-------------+------------------------------------------------------------------------------------------------------------------------------------------------------+\n",
      "|           NM_VOTAVEL|QT_MUNICIPIOS|                                                                                                                                            MUNICIPIOS|\n",
      "+---------------------+-------------+------------------------------------------------------------------------------------------------------------------------------------------------------+\n",
      "|       BENES LEOCÁDIO|           26|ALTO DO RODRIGUES, AREZ, BAÍA FORMOSA, BOM JESUS, CAIÇARA DO NORTE, CAIÇARA DO RIO DO VENTO, CARNAUBAIS, DOUTOR SEVERIANO, FERNANDO PEDROZA, FLORÂN...|\n",
      "|          BETO ROSADO|           24|CANGUARETAMA, CARAÚBAS, CERRO CORÁ, GOVERNADOR DIX-SEPT ROSADO, GROSSOS, ITAJÁ, ITAÚ, JAPI, JAÇANÃ, JUCURUTU, MARTINS, MONTE DAS GAMELEIRAS, OLHO D...|\n",
      "|      GARIBALDI FILHO|           24|AFONSO BEZERRA, ANGICOS, APODI, BENTO FERNANDES, BOA SAÚDE, BREJINHO, CAMPO GRANDE, CORONEL EZEQUIEL, FRUTUOSO GOMES, GUAMARÉ, IPANGUAÇU, IPUEIRA, ...|\n",
      "|       ROBINSON FARIA|           21|ANTÔNIO MARTINS, BARAÚNA, BARCELONA, BODÓ, CEARÁ-MIRIM, EQUADOR, ESPÍRITO SANTO, IELMO MARINHO, LAGOA DE PEDRAS, MAXARANGUAPE, NÍSIA FLORESTA, PEDR...|\n",
      "|            JOÃO MAIA|           19|CAMPO REDONDO, EXTREMOZ, FELIPE GUERRA, GALINHOS, GOIANINHA, JOÃO CÂMARA, JOÃO DIAS, MESSIAS TARGINO, MONTE ALEGRE, OURO BRANCO, PORTO DO MANGUE, R...|\n",
      "|               DR PIO|           10|         ENCANTO, JOSÉ DA PENHA, LUÍS GOMES, MAJOR SALES, MARCELINO VIEIRA, PARANÁ, PILÕES, RODOLFO FERNANDES, SÃO FRANCISCO DO OESTE, TENENTE ANANIAS|\n",
      "|      PAULINHO FREIRE|            8|                                        CORONEL JOÃO PESSOA, CRUZETA, FRANCISCO DANTAS, JUNDIÁ, LAGOA D'ANTA, PUREZA, SENADOR ELÓI DE SOUZA, VERA CRUZ|\n",
      "|    NATÁLIA BONAVIDES|            7|                                                                        ALEXANDRIA, CAICÓ, JANDUÍS, NATAL, SANTA CRUZ, SANTA MARIA, SÃO JOÃO DO SABUGI|\n",
      "|KALINE DE DR BERNARDO|            5|                                                                             ALMINO AFONSO, JARDIM DE PIRANHAS, PATU, RAFAEL GODEIRO, TABOLEIRO GRANDE|\n",
      "|         JAIME CALADO|            4|                                                                                       LUCRÉCIA, SERRA NEGRA DO NORTE, SÃO GONÇALO DO AMARANTE, TOUROS|\n",
      "|                KELPS|            3|                                                                                                                  ACARI, MONTANHAS, SÃO JOSÉ DE MIPIBU|\n",
      "|             LAWRENCE|            2|                                                                                                                                 AREIA BRANCA, MOSSORÓ|\n",
      "|          DRA VANESSA|            2|                                                                                                                                      ASSÚ, SÃO RAFAEL|\n",
      "|        LEONARDO REGO|            1|                                                                                                                                        PAU DOS FERROS|\n",
      "|       NETINHO FRANÇA|            1|                                                                                                                                               MACAÍBA|\n",
      "|          VICTOR HUGO|            1|                                                                                                                                                 MACAU|\n",
      "|       BARBARA DANTAS|            1|                                                                                                                                   CARNAÚBA DOS DANTAS|\n",
      "|              IRON JR|            1|                                                                                                                                      JARDIM DO SERIDÓ|\n",
      "|              ZÉ LINS|            1|                                                                                                                                         CURRAIS NOVOS|\n",
      "|        DR ALESSANDRU|            1|                                                                                                                                               TANGARÁ|\n",
      "|               MARINA|            1|                                                                                                                                         PEDRO AVELINO|\n",
      "|     PROFESSORA NILDA|            1|                                                                                                                                            PARNAMIRIM|\n",
      "|  DRA  JULIA FERREIRA|            1|                                                                                                                                              PARELHAS|\n",
      "|              MINEIRO|            1|                                                                                                                                              JANDAÍRA|\n",
      "|      MAJOR BRILHANTE|            1|                                                                                                                                          SÃO FERNANDO|\n",
      "+---------------------+-------------+------------------------------------------------------------------------------------------------------------------------------------------------------+\n",
      "\n"
     ]
    }
   ],
   "source": [
    "df_def_fed_mun.show(100,150)"
   ]
  },
  {
   "cell_type": "markdown",
   "id": "9116847f-a19b-4c73-b587-2596e1d792f9",
   "metadata": {},
   "source": [
    "## Visualização dos Dados com Matplotlib"
   ]
  },
  {
   "cell_type": "code",
   "execution_count": 87,
   "id": "d217d471-9f9d-4292-8c2d-b58825425893",
   "metadata": {},
   "outputs": [
    {
     "data": {
      "image/png": "[encoded data removed]",
      "text/plain": [
       "<Figure size 640x480 with 1 Axes>"
      ]
     },
     "metadata": {},
     "output_type": "display_data"
    }
   ],
   "source": [
    "import matplotlib.pyplot as plt\n",
    "\n",
    "pandas_df = df_def_fed_mun.toPandas()\n",
    "pandas_df = pandas_df.sort_values(by='QT_MUNICIPIOS', ascending=True)\n",
    "\n",
    "# Dados para o gráfico\n",
    "categorias = pandas_df[\"NM_VOTAVEL\"]\n",
    "valores = pandas_df[\"QT_MUNICIPIOS\"]\n",
    "\n",
    "# Criação do gráfico de barras\n",
    "plt.barh(categorias, valores)\n",
    "\n",
    "# Adicionando os valores nas barras\n",
    "for i, v in enumerate(valores):\n",
    "    plt.text(v, i, str(v), color='black', va='center')\n",
    "\n",
    "# Personalização do gráfico\n",
    "plt.title('VENCEDORES POR QUANTIDADE DE MUNICÍPIOS')\n",
    "\n",
    "# Exibição do gráfico\n",
    "plt.show()\n"
   ]
  }
 ],
 "metadata": {
  "kernelspec": {
   "display_name": "Python 3 (ipykernel)",
   "language": "python",
   "name": "python3"
  },
  "language_info": {
   "codemirror_mode": {
    "name": "ipython",
    "version": 3
   },
   "file_extension": ".py",
   "mimetype": "text/x-python",
   "name": "python",
   "nbconvert_exporter": "python",
   "pygments_lexer": "ipython3",
   "version": "3.11.3"
  }
 },
 "nbformat": 4,
 "nbformat_minor": 5
}
